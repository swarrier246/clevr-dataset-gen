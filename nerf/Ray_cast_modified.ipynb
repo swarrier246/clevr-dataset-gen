{
 "cells": [
  {
   "cell_type": "markdown",
   "metadata": {},
   "source": [
    "# Ray cast vizualizations"
   ]
  },
  {
   "cell_type": "markdown",
   "metadata": {},
   "source": [
    "Code to check if rays are being cast correctly. Modified from original to avoid using trimesh; will work with "
   ]
  },
  {
   "cell_type": "code",
   "execution_count": 1,
   "metadata": {
    "code_folding": [
     0
    ]
   },
   "outputs": [],
   "source": [
    "# Imports\n",
    "\n",
    "import torch\n",
    "import torch.nn as nn\n",
    "import numpy as np\n",
    "import open3d\n",
    "# import trimesh\n",
    "import tensorflow as tf\n",
    "from tensorflow.compat.v1 import enable_eager_execution\n",
    "enable_eager_execution()\n",
    "import matplotlib.pyplot as plt"
   ]
  },
  {
   "cell_type": "code",
   "execution_count": 2,
   "metadata": {
    "code_folding": [
     0
    ]
   },
   "outputs": [
    {
     "name": "stdout",
     "output_type": "stream",
     "text": [
      "256 256\n",
      "(5, 256, 256, 4) (5, 4, 4) [35. 35. 35. 35. 35.]\n"
     ]
    },
    {
     "data": {
      "image/png": "[encoded data removed]",
      "text/plain": [
       "<Figure size 432x288 with 1 Axes>"
      ]
     },
     "metadata": {
      "needs_background": "light"
     },
     "output_type": "display_data"
    }
   ],
   "source": [
    "# Data Loading\n",
    "\n",
    "data = np.load('/home/sushmitawarrier/clevr-dataset-gen/output/GPU_data_rsynced/CLEVR_new000000/images/CLEVR_new000000/lettuce_scene000000_transforms_4.npz')\n",
    "images = data['images']\n",
    "poses = data['poses']\n",
    "focal = data['focal']\n",
    "# verts = data['verts']\n",
    "H, W = images.shape[1:3]\n",
    "print(H, W)\n",
    "print(images.shape, poses.shape, focal)\n",
    "\n",
    "testimg, testpose = images[4], poses[4]\n",
    "images = images[:3,...,:3]\n",
    "poses = poses[:3]\n",
    "\n",
    "plt.imshow(testimg)\n",
    "plt.axis(\"off\")\n",
    "plt.show()\n"
   ]
  },
  {
   "cell_type": "code",
   "execution_count": 3,
   "metadata": {},
   "outputs": [],
   "source": [
    "import numpy as np\n",
    "\n",
    "def face_process(face_list):\n",
    "\tfaces=list(map(lambda x:int(x.split(b'/')[0]),face_list[1:]))\n",
    "\treturn faces\n",
    "\n",
    "def load_obj(filename):\n",
    "\tf=open(filename,\"rb\")\n",
    "\tlines = f.readlines()\n",
    "\n",
    "\tverts=list(filter(lambda x:x[:2]==b\"v \", lines))\n",
    "\tfaces=list(filter(lambda x:x[:2]==b\"f \", lines))\n",
    "\n",
    "\tverts=list(map(lambda x:x.strip().split()[1:],verts))\n",
    "\tverts=np.array(verts).astype(\"float32\")\n",
    "\tfaces=list(map(lambda x:x.strip().split(),faces))\n",
    "\tfaces=list(map(face_process,faces))\n",
    "\tfaces=np.array(faces).astype(\"int32\")-1\n",
    "\n",
    "\treturn lines,verts, faces"
   ]
  },
  {
   "cell_type": "code",
   "execution_count": 4,
   "metadata": {},
   "outputs": [],
   "source": [
    "# !ls ../output/GPU_data_rsynced/CLEVR_new000000/objfiles\n",
    "\n",
    "lines, verts, faces = load_obj('../output/GPU_data_rsynced/CLEVR_new000000/objfiles/000004.obj')"
   ]
  },
  {
   "cell_type": "code",
   "execution_count": 68,
   "metadata": {},
   "outputs": [],
   "source": [
    "#data = np.load('/home/sushmitawarrier/clevr-dataset-gen/output/GPU_data_rsynced/CLEVR_new000000/images/CLEVR_new000000/lettuce_scene000000_transforms_4.npz')\n",
    "#images = data['images']\n",
    "#poses = data['poses']\n",
    "#focal = data['focal']"
   ]
  },
  {
   "cell_type": "code",
   "execution_count": 69,
   "metadata": {},
   "outputs": [],
   "source": [
    "homogenize=np.ones((verts.shape[0],1))\n",
    "verts_h = np.concatenate([verts,homogenize],axis=1)\n",
    "\n",
    "verts_hc = verts_h.copy()\n",
    "#verts_hc[:,1] = verts_h[:,2]\n",
    "#verts_hc[:,2] = verts_h[:,0]\n",
    "#verts_hc[:,0] = verts_h[:,1]\n",
    "\n"
   ]
  },
  {
   "cell_type": "code",
   "execution_count": 70,
   "metadata": {},
   "outputs": [
    {
     "data": {
      "text/plain": [
       "array([[-0.090254  ,  0.007464  ,  0.040401  ,  1.        ],\n",
       "       [ 0.51638901,  0.300156  ,  0.25070301,  1.        ],\n",
       "       [-0.115507  ,  0.01107   ,  0.037663  ,  1.        ],\n",
       "       ...,\n",
       "       [ 0.58562303,  1.349298  ,  0.038803  ,  1.        ],\n",
       "       [ 0.612221  ,  1.33343303, -0.090776  ,  1.        ],\n",
       "       [ 0.58890003,  1.30776596, -0.21443   ,  1.        ]])"
      ]
     },
     "execution_count": 70,
     "metadata": {},
     "output_type": "execute_result"
    }
   ],
   "source": [
    "verts_hc"
   ]
  },
  {
   "cell_type": "code",
   "execution_count": 71,
   "metadata": {},
   "outputs": [
    {
     "ename": "IndexError",
     "evalue": "index 4 is out of bounds for axis 0 with size 3",
     "output_type": "error",
     "traceback": [
      "\u001b[0;31m---------------------------------------------------------------------------\u001b[0m",
      "\u001b[0;31mIndexError\u001b[0m                                Traceback (most recent call last)",
      "\u001b[0;32m<ipython-input-71-b21a5eb46a3f>\u001b[0m in \u001b[0;36m<module>\u001b[0;34m\u001b[0m\n\u001b[1;32m      1\u001b[0m \u001b[0;32mimport\u001b[0m \u001b[0mtorch\u001b[0m \u001b[0;32mas\u001b[0m \u001b[0mth\u001b[0m\u001b[0;34m\u001b[0m\u001b[0;34m\u001b[0m\u001b[0m\n\u001b[1;32m      2\u001b[0m \u001b[0;34m\u001b[0m\u001b[0m\n\u001b[0;32m----> 3\u001b[0;31m \u001b[0mrot\u001b[0m\u001b[0;34m=\u001b[0m\u001b[0mposes\u001b[0m\u001b[0;34m[\u001b[0m\u001b[0;36m4\u001b[0m\u001b[0;34m]\u001b[0m\u001b[0;34m[\u001b[0m\u001b[0;34m:\u001b[0m\u001b[0;36m3\u001b[0m\u001b[0;34m,\u001b[0m \u001b[0;34m:\u001b[0m\u001b[0;36m3\u001b[0m\u001b[0;34m]\u001b[0m\u001b[0;34m\u001b[0m\u001b[0;34m\u001b[0m\u001b[0m\n\u001b[0m\u001b[1;32m      4\u001b[0m \u001b[0mrot_c\u001b[0m \u001b[0;34m=\u001b[0m \u001b[0mrot\u001b[0m\u001b[0;34m.\u001b[0m\u001b[0mcopy\u001b[0m\u001b[0;34m(\u001b[0m\u001b[0;34m)\u001b[0m\u001b[0;34m\u001b[0m\u001b[0;34m\u001b[0m\u001b[0m\n\u001b[1;32m      5\u001b[0m \u001b[0;31m#rot_c[2] = -rot[2]\u001b[0m\u001b[0;34m\u001b[0m\u001b[0;34m\u001b[0m\u001b[0;34m\u001b[0m\u001b[0m\n",
      "\u001b[0;31mIndexError\u001b[0m: index 4 is out of bounds for axis 0 with size 3"
     ]
    }
   ],
   "source": [
    "import torch as th\n",
    "\n",
    "rot=poses[4][:3, :3]\n",
    "rot_c = rot.copy()\n",
    "#rot_c[2] = -rot[2]\n",
    "\n",
    "trans=poses[4][:3,3]\n",
    "trans_c = trans.copy()\n",
    "#trans_c[0]=trans[1]\n",
    "#trans_c[1]=trans[0]\n",
    "\n",
    "\n",
    "#projections=th.matmul(torch.from_numpy(verts).float(),torch.from_numpy(poses[1][:3,:3]).float())-torch.from_numpy(trans_c).float()\n",
    "projections=th.matmul(torch.from_numpy(verts_hc).float(),torch.from_numpy(poses[4]).T.float()) #-torch.from_numpy(trans_c).float()"
   ]
  },
  {
   "cell_type": "code",
   "execution_count": 72,
   "metadata": {},
   "outputs": [
    {
     "ename": "NameError",
     "evalue": "name 'projections' is not defined",
     "output_type": "error",
     "traceback": [
      "\u001b[0;31m---------------------------------------------------------------------------\u001b[0m",
      "\u001b[0;31mNameError\u001b[0m                                 Traceback (most recent call last)",
      "\u001b[0;32m<ipython-input-72-2ffc593776f2>\u001b[0m in \u001b[0;36m<module>\u001b[0;34m\u001b[0m\n\u001b[0;32m----> 1\u001b[0;31m \u001b[0mpoints\u001b[0m\u001b[0;34m=\u001b[0m\u001b[0mprojections\u001b[0m\u001b[0;34m\u001b[0m\u001b[0;34m\u001b[0m\u001b[0m\n\u001b[0m\u001b[1;32m      2\u001b[0m \u001b[0my\u001b[0m\u001b[0;34m=\u001b[0m \u001b[0mfocal\u001b[0m\u001b[0;34m[\u001b[0m\u001b[0;36m4\u001b[0m\u001b[0;34m]\u001b[0m\u001b[0;34m*\u001b[0m\u001b[0mpoints\u001b[0m\u001b[0;34m[\u001b[0m\u001b[0;34m:\u001b[0m\u001b[0;34m,\u001b[0m\u001b[0;36m1\u001b[0m\u001b[0;34m]\u001b[0m \u001b[0;31m#/(points[:,2])\u001b[0m\u001b[0;34m\u001b[0m\u001b[0;34m\u001b[0m\u001b[0m\n\u001b[1;32m      3\u001b[0m \u001b[0mx\u001b[0m\u001b[0;34m=\u001b[0m \u001b[0mfocal\u001b[0m\u001b[0;34m[\u001b[0m\u001b[0;36m4\u001b[0m\u001b[0;34m]\u001b[0m\u001b[0;34m*\u001b[0m\u001b[0mpoints\u001b[0m\u001b[0;34m[\u001b[0m\u001b[0;34m:\u001b[0m\u001b[0;34m,\u001b[0m\u001b[0;36m0\u001b[0m\u001b[0;34m]\u001b[0m \u001b[0;31m#/(points[:,2])\u001b[0m\u001b[0;34m\u001b[0m\u001b[0;34m\u001b[0m\u001b[0m\n\u001b[1;32m      4\u001b[0m \u001b[0mplt\u001b[0m\u001b[0;34m.\u001b[0m\u001b[0mscatter\u001b[0m\u001b[0;34m(\u001b[0m\u001b[0my\u001b[0m\u001b[0;34m,\u001b[0m\u001b[0mx\u001b[0m\u001b[0;34m)\u001b[0m\u001b[0;34m\u001b[0m\u001b[0;34m\u001b[0m\u001b[0m\n",
      "\u001b[0;31mNameError\u001b[0m: name 'projections' is not defined"
     ]
    }
   ],
   "source": [
    "points=projections\n",
    "y= focal[4]*points[:,1] #/(points[:,2])\n",
    "x= focal[4]*points[:,0] #/(points[:,2])\n",
    "plt.scatter(y,x)"
   ]
  },
  {
   "cell_type": "code",
   "execution_count": 73,
   "metadata": {},
   "outputs": [
    {
     "ename": "NameError",
     "evalue": "name 'points' is not defined",
     "output_type": "error",
     "traceback": [
      "\u001b[0;31m---------------------------------------------------------------------------\u001b[0m",
      "\u001b[0;31mNameError\u001b[0m                                 Traceback (most recent call last)",
      "\u001b[0;32m<ipython-input-73-5899ea219614>\u001b[0m in \u001b[0;36m<module>\u001b[0;34m\u001b[0m\n\u001b[0;32m----> 1\u001b[0;31m \u001b[0mpoints\u001b[0m\u001b[0;34m[\u001b[0m\u001b[0;34m:\u001b[0m\u001b[0;34m,\u001b[0m\u001b[0;36m0\u001b[0m\u001b[0;34m]\u001b[0m\u001b[0;34m\u001b[0m\u001b[0;34m\u001b[0m\u001b[0m\n\u001b[0m",
      "\u001b[0;31mNameError\u001b[0m: name 'points' is not defined"
     ]
    }
   ],
   "source": [
    "points[:,0]"
   ]
  },
  {
   "cell_type": "code",
   "execution_count": 74,
   "metadata": {},
   "outputs": [
    {
     "ename": "NameError",
     "evalue": "name 'points' is not defined",
     "output_type": "error",
     "traceback": [
      "\u001b[0;31m---------------------------------------------------------------------------\u001b[0m",
      "\u001b[0;31mNameError\u001b[0m                                 Traceback (most recent call last)",
      "\u001b[0;32m<ipython-input-74-a47444226446>\u001b[0m in \u001b[0;36m<module>\u001b[0;34m\u001b[0m\n\u001b[0;32m----> 1\u001b[0;31m \u001b[0mpoints\u001b[0m\u001b[0;34m\u001b[0m\u001b[0;34m\u001b[0m\u001b[0m\n\u001b[0m",
      "\u001b[0;31mNameError\u001b[0m: name 'points' is not defined"
     ]
    }
   ],
   "source": [
    "points"
   ]
  },
  {
   "cell_type": "code",
   "execution_count": 75,
   "metadata": {},
   "outputs": [
    {
     "ename": "NameError",
     "evalue": "name 'trans_c' is not defined",
     "output_type": "error",
     "traceback": [
      "\u001b[0;31m---------------------------------------------------------------------------\u001b[0m",
      "\u001b[0;31mNameError\u001b[0m                                 Traceback (most recent call last)",
      "\u001b[0;32m<ipython-input-75-ae046ba3c638>\u001b[0m in \u001b[0;36m<module>\u001b[0;34m\u001b[0m\n\u001b[0;32m----> 1\u001b[0;31m \u001b[0mtrans_c\u001b[0m\u001b[0;34m\u001b[0m\u001b[0;34m\u001b[0m\u001b[0m\n\u001b[0m",
      "\u001b[0;31mNameError\u001b[0m: name 'trans_c' is not defined"
     ]
    }
   ],
   "source": [
    "trans_c"
   ]
  },
  {
   "cell_type": "code",
   "execution_count": 76,
   "metadata": {},
   "outputs": [
    {
     "ename": "IndexError",
     "evalue": "index 4 is out of bounds for axis 0 with size 3",
     "output_type": "error",
     "traceback": [
      "\u001b[0;31m---------------------------------------------------------------------------\u001b[0m",
      "\u001b[0;31mIndexError\u001b[0m                                Traceback (most recent call last)",
      "\u001b[0;32m<ipython-input-76-4c2f107123c7>\u001b[0m in \u001b[0;36m<module>\u001b[0;34m\u001b[0m\n\u001b[1;32m      1\u001b[0m \u001b[0mplt\u001b[0m\u001b[0;34m.\u001b[0m\u001b[0mfigure\u001b[0m\u001b[0;34m(\u001b[0m\u001b[0mfigsize\u001b[0m\u001b[0;34m=\u001b[0m\u001b[0;34m(\u001b[0m\u001b[0;36m10\u001b[0m\u001b[0;34m,\u001b[0m\u001b[0;36m10\u001b[0m\u001b[0;34m)\u001b[0m\u001b[0;34m)\u001b[0m\u001b[0;34m\u001b[0m\u001b[0;34m\u001b[0m\u001b[0m\n\u001b[0;32m----> 2\u001b[0;31m \u001b[0mplt\u001b[0m\u001b[0;34m.\u001b[0m\u001b[0mimshow\u001b[0m\u001b[0;34m(\u001b[0m\u001b[0mimages\u001b[0m\u001b[0;34m[\u001b[0m\u001b[0;36m4\u001b[0m\u001b[0;34m]\u001b[0m\u001b[0;34m[\u001b[0m\u001b[0;34m:\u001b[0m\u001b[0;34m,\u001b[0m\u001b[0;34m:\u001b[0m\u001b[0;34m,\u001b[0m\u001b[0;34m:\u001b[0m\u001b[0;36m3\u001b[0m\u001b[0;34m]\u001b[0m\u001b[0;34m)\u001b[0m\u001b[0;34m\u001b[0m\u001b[0;34m\u001b[0m\u001b[0m\n\u001b[0m\u001b[1;32m      3\u001b[0m \u001b[0mplt\u001b[0m\u001b[0;34m.\u001b[0m\u001b[0mscatter\u001b[0m\u001b[0;34m(\u001b[0m\u001b[0my\u001b[0m\u001b[0;34m,\u001b[0m\u001b[0mx\u001b[0m\u001b[0;34m-\u001b[0m\u001b[0;36m128\u001b[0m\u001b[0;34m)\u001b[0m\u001b[0;34m\u001b[0m\u001b[0;34m\u001b[0m\u001b[0m\n\u001b[1;32m      4\u001b[0m \u001b[0mplt\u001b[0m\u001b[0;34m.\u001b[0m\u001b[0maxis\u001b[0m\u001b[0;34m(\u001b[0m\u001b[0;34m\"off\"\u001b[0m\u001b[0;34m)\u001b[0m\u001b[0;34m\u001b[0m\u001b[0;34m\u001b[0m\u001b[0m\n",
      "\u001b[0;31mIndexError\u001b[0m: index 4 is out of bounds for axis 0 with size 3"
     ]
    },
    {
     "data": {
      "text/plain": [
       "<Figure size 720x720 with 0 Axes>"
      ]
     },
     "metadata": {},
     "output_type": "display_data"
    }
   ],
   "source": [
    "plt.figure(figsize=(10,10))\n",
    "plt.imshow(images[4][:,:,:3])\n",
    "plt.scatter(y,x-128)\n",
    "plt.axis(\"off\")"
   ]
  },
  {
   "cell_type": "code",
   "execution_count": 77,
   "metadata": {},
   "outputs": [
    {
     "ename": "IndexError",
     "evalue": "index 4 is out of bounds for axis 0 with size 3",
     "output_type": "error",
     "traceback": [
      "\u001b[0;31m---------------------------------------------------------------------------\u001b[0m",
      "\u001b[0;31mIndexError\u001b[0m                                Traceback (most recent call last)",
      "\u001b[0;32m<ipython-input-77-1d34c0830dc8>\u001b[0m in \u001b[0;36m<module>\u001b[0;34m\u001b[0m\n\u001b[0;32m----> 1\u001b[0;31m \u001b[0mimages\u001b[0m\u001b[0;34m[\u001b[0m\u001b[0;36m4\u001b[0m\u001b[0;34m]\u001b[0m\u001b[0;34m.\u001b[0m\u001b[0mshape\u001b[0m\u001b[0;34m\u001b[0m\u001b[0;34m\u001b[0m\u001b[0m\n\u001b[0m",
      "\u001b[0;31mIndexError\u001b[0m: index 4 is out of bounds for axis 0 with size 3"
     ]
    }
   ],
   "source": [
    "images[4].shape"
   ]
  },
  {
   "cell_type": "code",
   "execution_count": 72,
   "metadata": {
    "code_folding": [
     0
    ]
   },
   "outputs": [],
   "source": [
    "# Helper functions\n",
    "\n",
    "def init_weights(m):\n",
    "    if type(m) == nn.Linear:\n",
    "        torch.nn.init.xavier_uniform_(m.weight)\n",
    "        m.bias.data.fill_(0.01)\n",
    "        \n",
    "def pos_enc(a,L):\n",
    "    \n",
    "    x=[torch.sin(2.**i*a) for i in range(L)] + [torch.sin(2.**i*np.pi*a) for i in range(L)] + [a]\n",
    "    \n",
    "    return torch.cat(x,dim=0)\n",
    "\n",
    "\n",
    "class NeRF(nn.Module):\n",
    "    \n",
    "    def __init__(self,Lp):\n",
    "        super().__init__()\n",
    "        self.Lp = Lp\n",
    "        \n",
    "        module = []\n",
    "        \n",
    "        module.extend([nn.Linear(3*2*Lp+3,256),nn.ReLU()])\n",
    "        \n",
    "        # 7 layers\n",
    "        for i in range(7):\n",
    "            module.extend([nn.Linear(256,256),nn.ReLU()])\n",
    "        \n",
    "        module.extend([nn.Linear(256,4)])\n",
    "        self.nerf = nn.Sequential(*module)\n",
    "        \n",
    "        self.apply(lambda x: init_weights(x))\n",
    "        \n",
    "    def forward(self, input):\n",
    "        \n",
    "        inp = pos_enc(input,self.Lp)\n",
    "        print(\"inp before permute\", inp.shape)\n",
    "        inp = inp.permute(1, 0,2)\n",
    "        print(\"inp before reshape\", inp.shape)\n",
    "        inp = inp.reshape([inp.shape[0],-1])\n",
    "        print(\"inp shape\", inp.shape)\n",
    "        \n",
    "        rgba = self.nerf(inp)\n",
    "        return torch.sigmoid(rgba[:,:3]), torch.relu(rgba[:,3])\n",
    "    \n",
    "\n",
    "        "
   ]
  },
  {
   "cell_type": "code",
   "execution_count": 73,
   "metadata": {},
   "outputs": [
    {
     "data": {
      "text/plain": [
       "torch.Size([13, 6250, 3])"
      ]
     },
     "execution_count": 73,
     "metadata": {},
     "output_type": "execute_result"
    }
   ],
   "source": [
    "pos_enc(pw, 6).shape"
   ]
  },
  {
   "cell_type": "code",
   "execution_count": 74,
   "metadata": {},
   "outputs": [],
   "source": [
    "nerf=NeRF(6)\n",
    "optim=torch.optim.Adam(nerf.parameters(),0.001,(0.9,0.99))"
   ]
  },
  {
   "cell_type": "code",
   "execution_count": 75,
   "metadata": {
    "code_folding": [
     1
    ]
   },
   "outputs": [],
   "source": [
    "# Tf compares\n",
    "def get_rays(H, W, focal, c2w):\n",
    "    i, j = tf.meshgrid(tf.range(W, dtype=tf.float32), tf.range(H, dtype=tf.float32), indexing='xy')\n",
    "    dirs = tf.stack([(i*10-50)/focal, -(j*10-50)/focal, -tf.ones_like(i)], -1)\n",
    "    rays_d = tf.reduce_sum(dirs[..., np.newaxis, :] * c2w[:3,:3], -1)\n",
    "    rays_o = tf.broadcast_to(c2w[:3,-1], tf.shape(rays_d))\n",
    "    return rays_o.numpy(), rays_d.numpy(), dirs.numpy()\n",
    "rays_o, rays_d, dirs = get_rays(H/10,W/10, focal[0], poses[0])\n",
    "\n",
    "##\n",
    "c2w=torch.from_numpy(poses[0])\n",
    "#gur=th.bmm(p,c2w[:3,:3].T.view(1,3,3))\n",
    "\n",
    "##\n",
    "rays_o, rays_d\n",
    "N_samples = 10\n",
    "z_vals = tf.linspace(5.0, 8.0, N_samples)\n",
    "z_vals += tf.random.uniform(list(rays_o.shape[:-1]) + [N_samples]) * (8.0-5.0)/N_samples\n",
    "#pts = rays_o[...,None,:] + rays_d[...,None,:] * z_vals[...,:,None]"
   ]
  },
  {
   "cell_type": "code",
   "execution_count": 76,
   "metadata": {
    "code_folding": []
   },
   "outputs": [],
   "source": [
    "import torch as th\n",
    "\n",
    "def cast_rays(H, W, focal, scale, c2w, ns):\n",
    "    \n",
    "    nx = H // scale\n",
    "    ny = W // scale\n",
    "    #ns = nb_samples\n",
    "    \n",
    "    \n",
    "    # Sample front plane\n",
    "    yy,xx = torch.meshgrid(torch.linspace(0,ny-1,ny),torch.linspace(0,nx-1,nx))\n",
    "    # scaling factor\n",
    "    o = torch.Tensor(1,nx*ny,1).fill_(1)\n",
    "    \n",
    "    ix = xx.reshape(1,-1)*scale\n",
    "    iy = yy.reshape(1,-1)*scale\n",
    "    points = th.cat([(ix.unsqueeze(-1)-W/2)/focal, -(iy.unsqueeze(-1)-H/2)/focal, -o], dim=-1)\n",
    "    \n",
    "    camtrans = -torch.matmul(c2w[:3,-1],c2w[:3,:3])\n",
    "    near_distance = camtrans\n",
    "    far_distance = camtrans+5\n",
    "    \n",
    "    t=torch.linspace(0,1,ns)\n",
    "    # add jitter to sampling direction, so we get non-uniform samples\n",
    "    t_noisy = t.view(1,ns,1,1) + torch.Tensor(1,ns,nx*ny,1).uniform_(0,1)/ns\n",
    "    \n",
    "    t_scale = t_noisy*far_distance + (1-t_noisy)*near_distance\n",
    "    points_move = t_scale * points.view(1,1,nx*ny,3)\n",
    "    \n",
    "    points_world = th.bmm((points_move).view(1,-1,3),c2w[:3,:3].T.view(1,3,3)) \n",
    "    \n",
    "    return points, points_move.view(1,-1,3), points_world\n",
    "\n",
    "def raytrace(z,sigma_a,rgb):\n",
    "    dists = th.cat([z[..., 1:,:] - z[..., :-1,:], th.ones_like(z[...,:1,:]).fill_(1e10)], -1) \n",
    "    alpha = 1.-th.exp(-sigma_a * dists)  \n",
    "    weights = alpha * th.cumprod(1.-alpha + 1e-10, -1, exclusive=True)\n",
    "    \n",
    "    rgb_map = (weights[...,None] * rgb).sum(dim=-2) \n",
    "    depth_map =(weights * z_vals).sum(dim=-1)\n",
    "    acc_map = weights.sum(dim=-1)\n",
    "\n",
    "    return rgb_map, depth_map, acc_map"
   ]
  },
  {
   "cell_type": "code",
   "execution_count": 77,
   "metadata": {},
   "outputs": [
    {
     "data": {
      "text/plain": [
       "(tensor([[[-3.6571,  3.6571, -1.0000],\n",
       "          [-3.3714,  3.6571, -1.0000],\n",
       "          [-3.0857,  3.6571, -1.0000],\n",
       "          ...,\n",
       "          [ 2.6286, -3.2000, -1.0000],\n",
       "          [ 2.9143, -3.2000, -1.0000],\n",
       "          [ 3.2000, -3.2000, -1.0000]]]),\n",
       " tensor([[[ -0.2253,   0.2253,   9.8539],\n",
       "          [ -0.1546,   0.1677,   9.8696],\n",
       "          [ -0.1674,   0.1985,   9.8612],\n",
       "          ...,\n",
       "          [ 13.1837, -16.0497,   4.9000],\n",
       "          [ 14.6469, -16.0829,   4.8896],\n",
       "          [ 16.1339, -16.1339,   4.8736]]], dtype=torch.float64),\n",
       " tensor([[[  9.5764,   2.3328,   0.2253],\n",
       "          [  9.5733,   2.4051,   0.1677],\n",
       "          [  9.5685,   2.3905,   0.1985],\n",
       "          ...,\n",
       "          [  1.3208,  14.0026, -16.0497],\n",
       "          [  0.9321,  15.4133, -16.0829],\n",
       "          [  0.5318,  16.8455, -16.1339]]], dtype=torch.float64))"
      ]
     },
     "execution_count": 77,
     "metadata": {},
     "output_type": "execute_result"
    }
   ],
   "source": [
    "cast_rays(H,W,focal[0],10,torch.from_numpy(poses[img_i]),64)"
   ]
  },
  {
   "cell_type": "code",
   "execution_count": 78,
   "metadata": {},
   "outputs": [],
   "source": [
    "p,pm,pw=cast_rays(H,W,focal[0],10,torch.from_numpy(poses[img_i]),10)\n",
    "    "
   ]
  },
  {
   "cell_type": "code",
   "execution_count": 82,
   "metadata": {
    "code_folding": [
     0
    ]
   },
   "outputs": [
    {
     "name": "stdout",
     "output_type": "stream",
     "text": [
      "tagert shape torch.Size([1, 256, 256, 3])\n",
      "torch.Size([1, 6250, 3])\n",
      "inp before permute torch.Size([13, 6250, 3])\n",
      "inp before reshape torch.Size([6250, 13, 3])\n",
      "inp shape torch.Size([6250, 39])\n",
      "rgb shape torch.Size([6250, 3])\n"
     ]
    },
    {
     "ename": "RuntimeError",
     "evalue": "The size of tensor a (6250) must match the size of tensor b (256) at non-singleton dimension 2",
     "output_type": "error",
     "traceback": [
      "\u001b[0;31m---------------------------------------------------------------------------\u001b[0m",
      "\u001b[0;31mRuntimeError\u001b[0m                              Traceback (most recent call last)",
      "\u001b[0;32m<ipython-input-82-483256c2f911>\u001b[0m in \u001b[0;36m<module>\u001b[0;34m\u001b[0m\n\u001b[1;32m     21\u001b[0m     \u001b[0mprint\u001b[0m\u001b[0;34m(\u001b[0m\u001b[0;34m\"rgb shape\"\u001b[0m\u001b[0;34m,\u001b[0m \u001b[0mrgb\u001b[0m\u001b[0;34m.\u001b[0m\u001b[0mshape\u001b[0m\u001b[0;34m)\u001b[0m\u001b[0;34m\u001b[0m\u001b[0;34m\u001b[0m\u001b[0m\n\u001b[1;32m     22\u001b[0m \u001b[0;34m\u001b[0m\u001b[0m\n\u001b[0;32m---> 23\u001b[0;31m     \u001b[0mloss\u001b[0m \u001b[0;34m=\u001b[0m \u001b[0mth\u001b[0m\u001b[0;34m.\u001b[0m\u001b[0mmean\u001b[0m\u001b[0;34m(\u001b[0m\u001b[0;34m(\u001b[0m\u001b[0mrgb\u001b[0m \u001b[0;34m-\u001b[0m \u001b[0mtarget\u001b[0m\u001b[0;34m)\u001b[0m\u001b[0;34m.\u001b[0m\u001b[0mpow\u001b[0m\u001b[0;34m(\u001b[0m\u001b[0;36m2\u001b[0m\u001b[0;34m)\u001b[0m\u001b[0;34m)\u001b[0m\u001b[0;34m\u001b[0m\u001b[0;34m\u001b[0m\u001b[0m\n\u001b[0m\u001b[1;32m     24\u001b[0m     \u001b[0mgradients\u001b[0m \u001b[0;34m=\u001b[0m \u001b[0mtape\u001b[0m\u001b[0;34m.\u001b[0m\u001b[0mgradient\u001b[0m\u001b[0;34m(\u001b[0m\u001b[0mloss\u001b[0m\u001b[0;34m,\u001b[0m \u001b[0mmodel\u001b[0m\u001b[0;34m.\u001b[0m\u001b[0mtrainable_variables\u001b[0m\u001b[0;34m)\u001b[0m\u001b[0;34m\u001b[0m\u001b[0;34m\u001b[0m\u001b[0m\n\u001b[1;32m     25\u001b[0m     \u001b[0moptimizer\u001b[0m\u001b[0;34m.\u001b[0m\u001b[0mapply_gradients\u001b[0m\u001b[0;34m(\u001b[0m\u001b[0mzip\u001b[0m\u001b[0;34m(\u001b[0m\u001b[0mgradients\u001b[0m\u001b[0;34m,\u001b[0m \u001b[0mmodel\u001b[0m\u001b[0;34m.\u001b[0m\u001b[0mtrainable_variables\u001b[0m\u001b[0;34m)\u001b[0m\u001b[0;34m)\u001b[0m\u001b[0;34m\u001b[0m\u001b[0;34m\u001b[0m\u001b[0m\n",
      "\u001b[0;31mRuntimeError\u001b[0m: The size of tensor a (6250) must match the size of tensor b (256) at non-singleton dimension 2"
     ]
    }
   ],
   "source": [
    "# Train\n",
    "\n",
    "N_samples = 64\n",
    "N_iters = 1000\n",
    "psnrs = []\n",
    "iternums = []\n",
    "i_plot = 25\n",
    "\n",
    "import time\n",
    "t = time.time()\n",
    "for i in range(N_iters+1):\n",
    "    \n",
    "    img_i = np.random.randint(images.shape[0])\n",
    "    target = torch.from_numpy(images[img_i]).unsqueeze(0)\n",
    "    print(\"tagert shape\", target.shape)\n",
    "    pose = torch.from_numpy(poses[img_i]).unsqueeze(0)\n",
    "    p,pm,pw=cast_rays(H,W,focal[0],10,torch.from_numpy(poses[img_i]),10)\n",
    "    print(pw.shape)\n",
    "    \n",
    "    rgb,alpha=nerf(pw.float()) #.type(torch.FloatTensor))\n",
    "    print(\"rgb shape\", rgb.shape)\n",
    "    \n",
    "    loss = th.mean((rgb - target).pow(2))\n",
    "    gradients = tape.gradient(loss, model.trainable_variables)\n",
    "    optimizer.apply_gradients(zip(gradients, model.trainable_variables))\n",
    "    \n",
    "    if i%i_plot==0:\n",
    "        print(i, (time.time() - t) / i_plot, 'secs per iter')\n",
    "        t = time.time()\n",
    "        \n",
    "        # Render the holdout view for logging\n",
    "        rays_o, rays_d = get_rays(H, W, focal[0], testpose)\n",
    "        rgb, depth, acc = render_rays(model, rays_o, rays_d, near=2., far=6., N_samples=N_samples)\n",
    "        loss = tf.reduce_mean(tf.square(rgb - testimg))\n",
    "        psnr = -10. * tf.math.log(loss) / tf.math.log(10.)\n",
    "\n",
    "        psnrs.append(psnr.numpy())\n",
    "        iternums.append(i)\n",
    "        \n",
    "        plt.figure(figsize=(10,4))\n",
    "        plt.subplot(121)\n",
    "        plt.imshow(rgb)\n",
    "        plt.title(f'Iteration: {i}')\n",
    "        plt.subplot(122)\n",
    "        plt.plot(iternums, psnrs)\n",
    "        plt.title('PSNR')\n",
    "        plt.show()\n",
    "\n",
    "print('Done')"
   ]
  },
  {
   "cell_type": "code",
   "execution_count": 81,
   "metadata": {},
   "outputs": [],
   "source": [
    "import open3d\n",
    "\n",
    "p,pm,pw=cast_rays(H,W,focal[0],10,torch.from_numpy(poses[0]),10)\n",
    "p,pm,pw_2=cast_rays(H,W,focal[0],10,torch.from_numpy(poses[2]),10)"
   ]
  },
  {
   "cell_type": "code",
   "execution_count": null,
   "metadata": {},
   "outputs": [],
   "source": [
    "# we have replaced this with values from the .npz file\n",
    "# mesh=trimesh.load('./mesh.obj')\n",
    "# verts=np.array(mesh.vertices)"
   ]
  },
  {
   "cell_type": "code",
   "execution_count": 36,
   "metadata": {
    "code_folding": []
   },
   "outputs": [
    {
     "ename": "AttributeError",
     "evalue": "module 'open3d' has no attribute 'JVisualizer'",
     "output_type": "error",
     "traceback": [
      "\u001b[0;31m---------------------------------------------------------------------------\u001b[0m",
      "\u001b[0;31mAttributeError\u001b[0m                            Traceback (most recent call last)",
      "\u001b[0;32m<ipython-input-36-08982923d91e>\u001b[0m in \u001b[0;36m<module>\u001b[0;34m\u001b[0m\n\u001b[1;32m      1\u001b[0m \u001b[0;31m# Point clouds\u001b[0m\u001b[0;34m\u001b[0m\u001b[0;34m\u001b[0m\u001b[0;34m\u001b[0m\u001b[0m\n\u001b[0;32m----> 2\u001b[0;31m \u001b[0mviz\u001b[0m\u001b[0;34m=\u001b[0m\u001b[0mopen3d\u001b[0m\u001b[0;34m.\u001b[0m\u001b[0mJVisualizer\u001b[0m\u001b[0;34m(\u001b[0m\u001b[0;34m)\u001b[0m\u001b[0;34m\u001b[0m\u001b[0;34m\u001b[0m\u001b[0m\n\u001b[0m\u001b[1;32m      3\u001b[0m \u001b[0;34m\u001b[0m\u001b[0m\n\u001b[1;32m      4\u001b[0m \u001b[0mpcd1\u001b[0m \u001b[0;34m=\u001b[0m \u001b[0mopen3d\u001b[0m\u001b[0;34m.\u001b[0m\u001b[0mgeometry\u001b[0m\u001b[0;34m.\u001b[0m\u001b[0mPointCloud\u001b[0m\u001b[0;34m(\u001b[0m\u001b[0;34m)\u001b[0m\u001b[0;34m\u001b[0m\u001b[0;34m\u001b[0m\u001b[0m\n\u001b[1;32m      5\u001b[0m \u001b[0mpcd1\u001b[0m\u001b[0;34m.\u001b[0m\u001b[0mpoints\u001b[0m \u001b[0;34m=\u001b[0m \u001b[0mopen3d\u001b[0m\u001b[0;34m.\u001b[0m\u001b[0mutility\u001b[0m\u001b[0;34m.\u001b[0m\u001b[0mVector3dVector\u001b[0m\u001b[0;34m(\u001b[0m\u001b[0mp\u001b[0m\u001b[0;34m[\u001b[0m\u001b[0;36m0\u001b[0m\u001b[0;34m]\u001b[0m\u001b[0;34m.\u001b[0m\u001b[0mnumpy\u001b[0m\u001b[0;34m(\u001b[0m\u001b[0;34m)\u001b[0m\u001b[0;34m)\u001b[0m\u001b[0;34m\u001b[0m\u001b[0;34m\u001b[0m\u001b[0m\n",
      "\u001b[0;31mAttributeError\u001b[0m: module 'open3d' has no attribute 'JVisualizer'"
     ]
    }
   ],
   "source": [
    "# Point clouds\n",
    "viz=open3d.JVisualizer()\n",
    "\n",
    "pcd1 = open3d.geometry.PointCloud()\n",
    "pcd1.points = open3d.utility.Vector3dVector(p[0].numpy())\n",
    "pcd1.paint_uniform_color(np.array([1,0,0],dtype=np.float32))\n",
    "\n",
    "pcd2 = open3d.geometry.PointCloud()\n",
    "pcd2.points = open3d.utility.Vector3dVector(pm[0].numpy())\n",
    "pcd2.paint_uniform_color(np.array([0,1,0],dtype=np.float32))\n",
    "\n",
    "pcd3 = open3d.geometry.PointCloud()\n",
    "pcd3.points = open3d.utility.Vector3dVector(pw[0].numpy())\n",
    "pcd3.paint_uniform_color(np.array([0,0,1],dtype=np.float32))\n",
    "\n",
    "# pcd4 = open3d.geometry.PointCloud()\n",
    "# pcd4.points = open3d.utility.Vector3dVector(pw_2[0].numpy())\n",
    "# pcd4.paint_uniform_color(np.array([1,0,1],dtype=np.float32))\n",
    "\n",
    "pcd5=open3d.geometry.PointCloud()\n",
    "pcd5.points = open3d.utility.Vector3dVector(verts)\n",
    "pcd5=pcd5.uniform_down_sample(100)\n",
    "pcd5.paint_uniform_color(np.array([0,1,1],dtype=np.float32))"
   ]
  },
  {
   "cell_type": "code",
   "execution_count": null,
   "metadata": {},
   "outputs": [],
   "source": [
    "viz=open3d.JVisualizer()\n",
    "\n",
    "viz.add_geometry(pcd5)\n",
    "viz.add_geometry(pcd1)\n",
    "viz.show()"
   ]
  },
  {
   "cell_type": "code",
   "execution_count": null,
   "metadata": {},
   "outputs": [],
   "source": [
    "viz=open3d.JVisualizer()\n",
    "\n",
    "viz.add_geometry(pcd5)\n",
    "viz.add_geometry(pcd2)\n",
    "viz.show()"
   ]
  },
  {
   "cell_type": "code",
   "execution_count": null,
   "metadata": {},
   "outputs": [],
   "source": [
    "viz=open3d.JVisualizer()\n",
    "\n",
    "viz.add_geometry(pcd5)\n",
    "viz.add_geometry(pcd3)\n",
    "viz.show()"
   ]
  },
  {
   "cell_type": "code",
   "execution_count": null,
   "metadata": {},
   "outputs": [],
   "source": [
    "plt.imshow(images[0])\n",
    "plt.axis(\"off\")"
   ]
  },
  {
   "cell_type": "code",
   "execution_count": null,
   "metadata": {},
   "outputs": [],
   "source": [
    "viz=open3d.JVisualizer()\n",
    "\n",
    "viz.add_geometry(pcd5)\n",
    "viz.add_geometry(pcd3)\n",
    "viz.add_geometry(pcd4)\n",
    "viz.show()"
   ]
  },
  {
   "cell_type": "markdown",
   "metadata": {},
   "source": [
    "## Debug"
   ]
  },
  {
   "cell_type": "code",
   "execution_count": null,
   "metadata": {},
   "outputs": [],
   "source": [
    "pcd5 = open3d.geometry.PointCloud()\n",
    "pcd5.points = open3d.utility.Vector3dVector(pws[0].numpy())\n",
    "pcd5.paint_uniform_color(np.array([1,0,1],dtype=np.float32))\n",
    "\n",
    "pcd6 = open3d.geometry.PointCloud()\n",
    "pcd6.points = open3d.utility.Vector3dVector(pts_tp)\n",
    "pcd6.paint_uniform_color(np.array([1,1,0],dtype=np.float32))"
   ]
  },
  {
   "cell_type": "code",
   "execution_count": null,
   "metadata": {},
   "outputs": [],
   "source": [
    "pws=pw.clamp(-1.5,1.5)"
   ]
  },
  {
   "cell_type": "code",
   "execution_count": null,
   "metadata": {},
   "outputs": [],
   "source": [
    "#viz.add_geometry(pcd3)\n",
    "viz=open3d.JVisualizer()\n",
    "\n",
    "viz.add_geometry(pcd5)\n",
    "#viz.add_geometry(pcd6)\n",
    "viz.add_geometry(pcd4)\n",
    "viz.show()\n",
    "del viz"
   ]
  },
  {
   "cell_type": "code",
   "execution_count": null,
   "metadata": {},
   "outputs": [],
   "source": [
    "mesh=trimesh.load('./mesh.obj')"
   ]
  },
  {
   "cell_type": "code",
   "execution_count": null,
   "metadata": {},
   "outputs": [],
   "source": [
    "g=np.array(mesh.vertices)"
   ]
  },
  {
   "cell_type": "code",
   "execution_count": null,
   "metadata": {},
   "outputs": [],
   "source": [
    "g[:,0]=g[:,0]\n",
    "g[:,1]=g[:,1]\n",
    "g[:,2]=-g[:,2]"
   ]
  },
  {
   "cell_type": "code",
   "execution_count": null,
   "metadata": {},
   "outputs": [],
   "source": [
    "pcd4=open3d.geometry.PointCloud()\n",
    "pcd4.points = open3d.utility.Vector3dVector(k)\n",
    "pcd4=pcd4.uniform_down_sample(100)\n",
    "pcd4.paint_uniform_color(np.array([0,0,1],dtype=np.float32))\n"
   ]
  },
  {
   "cell_type": "code",
   "execution_count": null,
   "metadata": {},
   "outputs": [],
   "source": [
    "pcd5=open3d.geometry.PointCloud()\n",
    "pcd5.points = open3d.utility.Vector3dVector(points[0].numpy())\n",
    "pcd5=pcd5.uniform_down_sample(100)\n",
    "pcd5.paint_uniform_color(np.array([1,1,1],dtype=np.float32))"
   ]
  },
  {
   "cell_type": "code",
   "execution_count": null,
   "metadata": {},
   "outputs": [],
   "source": [
    "k=g[:,(1,0,2)]\n",
    "l=th.from_numpy(k)"
   ]
  },
  {
   "cell_type": "code",
   "execution_count": null,
   "metadata": {},
   "outputs": [],
   "source": [
    "lm=th.cat([l.float().unsqueeze(0),torch.ones_like(l).float().unsqueeze(0)],dim=-1)\n",
    "lm=lm[:,:,:4]"
   ]
  },
  {
   "cell_type": "code",
   "execution_count": null,
   "metadata": {},
   "outputs": [],
   "source": [
    "c2w=torch.from_numpy(poses[2])\n",
    "points=th.bmm(l.float().unsqueeze(0),c2w[:3,:3].unsqueeze(0)) "
   ]
  },
  {
   "cell_type": "code",
   "execution_count": null,
   "metadata": {},
   "outputs": [],
   "source": [
    "z=l[:,:2]\n",
    "pts=z*focal[0]"
   ]
  },
  {
   "cell_type": "code",
   "execution_count": null,
   "metadata": {},
   "outputs": [],
   "source": [
    "plt.imshow(images[2])\n",
    "plt.scatter(pts[:,0]+50,pts[:,1]+50,alpha=0.3)"
   ]
  },
  {
   "cell_type": "code",
   "execution_count": null,
   "metadata": {},
   "outputs": [],
   "source": [
    "pts.shape"
   ]
  },
  {
   "cell_type": "code",
   "execution_count": null,
   "metadata": {},
   "outputs": [],
   "source": [
    "plt.imshow(images[2])"
   ]
  },
  {
   "cell_type": "code",
   "execution_count": null,
   "metadata": {},
   "outputs": [],
   "source": [
    "poses[0]"
   ]
  },
  {
   "cell_type": "code",
   "execution_count": null,
   "metadata": {},
   "outputs": [],
   "source": []
  }
 ],
 "metadata": {
  "kernelspec": {
   "display_name": "VolRend",
   "language": "python",
   "name": "volrend"
  },
  "language_info": {
   "codemirror_mode": {
    "name": "ipython",
    "version": 3
   },
   "file_extension": ".py",
   "mimetype": "text/x-python",
   "name": "python",
   "nbconvert_exporter": "python",
   "pygments_lexer": "ipython3",
   "version": "3.8.5"
  }
 },
 "nbformat": 4,
 "nbformat_minor": 2
}

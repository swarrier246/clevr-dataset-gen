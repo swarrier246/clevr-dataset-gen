{
 "cells": [
  {
   "cell_type": "markdown",
   "metadata": {},
   "source": [
    "# Ray cast vizualizations"
   ]
  },
  {
   "cell_type": "code",
   "execution_count": 1,
   "metadata": {
    "code_folding": [
     0
    ]
   },
   "outputs": [
    {
     "ename": "ModuleNotFoundError",
     "evalue": "No module named 'open3d'",
     "output_type": "error",
     "traceback": [
      "\u001b[0;31m---------------------------------------------------------------------------\u001b[0m",
      "\u001b[0;31mModuleNotFoundError\u001b[0m                       Traceback (most recent call last)",
      "\u001b[0;32m<ipython-input-1-1b38a1f6f9a3>\u001b[0m in \u001b[0;36m<module>\u001b[0;34m\u001b[0m\n\u001b[1;32m      4\u001b[0m \u001b[0;32mimport\u001b[0m \u001b[0mtorch\u001b[0m\u001b[0;34m.\u001b[0m\u001b[0mnn\u001b[0m \u001b[0;32mas\u001b[0m \u001b[0mnn\u001b[0m\u001b[0;34m\u001b[0m\u001b[0;34m\u001b[0m\u001b[0m\n\u001b[1;32m      5\u001b[0m \u001b[0;32mimport\u001b[0m \u001b[0mnumpy\u001b[0m \u001b[0;32mas\u001b[0m \u001b[0mnp\u001b[0m\u001b[0;34m\u001b[0m\u001b[0;34m\u001b[0m\u001b[0m\n\u001b[0;32m----> 6\u001b[0;31m \u001b[0;32mimport\u001b[0m \u001b[0mopen3d\u001b[0m\u001b[0;34m\u001b[0m\u001b[0;34m\u001b[0m\u001b[0m\n\u001b[0m\u001b[1;32m      7\u001b[0m \u001b[0;32mimport\u001b[0m \u001b[0mtrimesh\u001b[0m\u001b[0;34m\u001b[0m\u001b[0;34m\u001b[0m\u001b[0m\n\u001b[1;32m      8\u001b[0m \u001b[0;32mimport\u001b[0m \u001b[0mtensorflow\u001b[0m \u001b[0;32mas\u001b[0m \u001b[0mtf\u001b[0m\u001b[0;34m\u001b[0m\u001b[0;34m\u001b[0m\u001b[0m\n",
      "\u001b[0;31mModuleNotFoundError\u001b[0m: No module named 'open3d'"
     ]
    }
   ],
   "source": [
    "# Imports\n",
    "\n",
    "import torch\n",
    "import torch.nn as nn\n",
    "import numpy as np\n",
    "import open3d\n",
    "import trimesh\n",
    "import tensorflow as tf\n",
    "from tensorflow.compat.v1 import enable_eager_execution\n",
    "enable_eager_execution()\n",
    "import matplotlib.pyplot as plt"
   ]
  },
  {
   "cell_type": "code",
   "execution_count": 3,
   "metadata": {
    "code_folding": [
     0
    ]
   },
   "outputs": [
    {
     "ename": "FileNotFoundError",
     "evalue": "[Errno 2] No such file or directory: 'tiny_nerf_data.npz'",
     "output_type": "error",
     "traceback": [
      "\u001b[0;31m---------------------------------------------------------------------------\u001b[0m",
      "\u001b[0;31mFileNotFoundError\u001b[0m                         Traceback (most recent call last)",
      "\u001b[0;32m<ipython-input-3-3407edfb5a89>\u001b[0m in \u001b[0;36m<module>\u001b[0;34m\u001b[0m\n\u001b[1;32m      1\u001b[0m \u001b[0;31m# Data Loading\u001b[0m\u001b[0;34m\u001b[0m\u001b[0;34m\u001b[0m\u001b[0;34m\u001b[0m\u001b[0m\n\u001b[1;32m      2\u001b[0m \u001b[0;34m\u001b[0m\u001b[0m\n\u001b[0;32m----> 3\u001b[0;31m \u001b[0mdata\u001b[0m \u001b[0;34m=\u001b[0m \u001b[0mnp\u001b[0m\u001b[0;34m.\u001b[0m\u001b[0mload\u001b[0m\u001b[0;34m(\u001b[0m\u001b[0;34m'tiny_nerf_data.npz'\u001b[0m\u001b[0;34m)\u001b[0m\u001b[0;34m\u001b[0m\u001b[0;34m\u001b[0m\u001b[0m\n\u001b[0m\u001b[1;32m      4\u001b[0m \u001b[0mimages\u001b[0m \u001b[0;34m=\u001b[0m \u001b[0mdata\u001b[0m\u001b[0;34m[\u001b[0m\u001b[0;34m'images'\u001b[0m\u001b[0;34m]\u001b[0m\u001b[0;34m\u001b[0m\u001b[0;34m\u001b[0m\u001b[0m\n\u001b[1;32m      5\u001b[0m \u001b[0mposes\u001b[0m \u001b[0;34m=\u001b[0m \u001b[0mdata\u001b[0m\u001b[0;34m[\u001b[0m\u001b[0;34m'poses'\u001b[0m\u001b[0;34m]\u001b[0m\u001b[0;34m\u001b[0m\u001b[0;34m\u001b[0m\u001b[0m\n",
      "\u001b[0;32m~/anaconda3/envs/VolRend/lib/python3.8/site-packages/numpy/lib/npyio.py\u001b[0m in \u001b[0;36mload\u001b[0;34m(file, mmap_mode, allow_pickle, fix_imports, encoding)\u001b[0m\n\u001b[1;32m    414\u001b[0m             \u001b[0mown_fid\u001b[0m \u001b[0;34m=\u001b[0m \u001b[0;32mFalse\u001b[0m\u001b[0;34m\u001b[0m\u001b[0;34m\u001b[0m\u001b[0m\n\u001b[1;32m    415\u001b[0m         \u001b[0;32melse\u001b[0m\u001b[0;34m:\u001b[0m\u001b[0;34m\u001b[0m\u001b[0;34m\u001b[0m\u001b[0m\n\u001b[0;32m--> 416\u001b[0;31m             \u001b[0mfid\u001b[0m \u001b[0;34m=\u001b[0m \u001b[0mstack\u001b[0m\u001b[0;34m.\u001b[0m\u001b[0menter_context\u001b[0m\u001b[0;34m(\u001b[0m\u001b[0mopen\u001b[0m\u001b[0;34m(\u001b[0m\u001b[0mos_fspath\u001b[0m\u001b[0;34m(\u001b[0m\u001b[0mfile\u001b[0m\u001b[0;34m)\u001b[0m\u001b[0;34m,\u001b[0m \u001b[0;34m\"rb\"\u001b[0m\u001b[0;34m)\u001b[0m\u001b[0;34m)\u001b[0m\u001b[0;34m\u001b[0m\u001b[0;34m\u001b[0m\u001b[0m\n\u001b[0m\u001b[1;32m    417\u001b[0m             \u001b[0mown_fid\u001b[0m \u001b[0;34m=\u001b[0m \u001b[0;32mTrue\u001b[0m\u001b[0;34m\u001b[0m\u001b[0;34m\u001b[0m\u001b[0m\n\u001b[1;32m    418\u001b[0m \u001b[0;34m\u001b[0m\u001b[0m\n",
      "\u001b[0;31mFileNotFoundError\u001b[0m: [Errno 2] No such file or directory: 'tiny_nerf_data.npz'"
     ]
    }
   ],
   "source": [
    "# Data Loading\n",
    "\n",
    "data = np.load('tiny_nerf_data.npz')\n",
    "images = data['images']\n",
    "poses = data['poses']\n",
    "focal = data['focal']\n",
    "H, W = images.shape[1:3]\n",
    "print(images.shape, poses.shape, focal)\n",
    "\n",
    "testimg, testpose = images[101], poses[101]\n",
    "images = images[:100,...,:3]\n",
    "poses = poses[:100]\n",
    "\n",
    "plt.imshow(testimg)\n",
    "plt.axis(\"off\")\n",
    "plt.show()\n"
   ]
  },
  {
   "cell_type": "code",
   "execution_count": null,
   "metadata": {
    "code_folding": [
     0
    ]
   },
   "outputs": [],
   "source": [
    "# Helper functions\n",
    "\n",
    "def init_weights(m):\n",
    "    if type(m) == nn.Linear:\n",
    "        torch.nn.init.xavier_uniform_(m.weight)\n",
    "        m.bias.data.fill_(0.01)\n",
    "        \n",
    "def pos_enc(a,L):\n",
    "    \n",
    "    x=[torch.sin(2.**i*a) for i in range(20)] + [torch.sin(2.**i*np.pi*a) for i in range(20)] + [a]\n",
    "    return torch.cat(x,dim=0)\n",
    "\n",
    "class NeRF(nn.Module):\n",
    "    \n",
    "    def __init__(self,Lp):\n",
    "        super().__init__()\n",
    "        \n",
    "        module = []\n",
    "        \n",
    "        module.extend([nn.Linear(3*2*Lp+3,256),nn.ReLU()])\n",
    "        \n",
    "        for i in range(7):\n",
    "            module.extend([nn.Linear(256,256),nn.ReLU()])\n",
    "        \n",
    "        module.extend([nn.Linear(256,4)])\n",
    "        self.nerf = nn.Sequential(*module)\n",
    "        \n",
    "        self.apply(lambda x: init_weights(x))\n",
    "        \n",
    "    def forward(self, input):\n",
    "        \n",
    "        inp = pos_enc(input)\n",
    "        \n",
    "        rgba = self.nerf(inp)\n",
    "        return torch.sigmoid(rgba[:,:3]), torch.relu(rgba[:,3])\n",
    "    \n",
    "\n",
    "        "
   ]
  },
  {
   "cell_type": "code",
   "execution_count": null,
   "metadata": {},
   "outputs": [],
   "source": [
    "nerf=NeRF(6)\n",
    "optim=torch.optim.Adam(nerf.parameters(),0.001,(0.9,0.99))"
   ]
  },
  {
   "cell_type": "code",
   "execution_count": null,
   "metadata": {
    "code_folding": [
     1
    ]
   },
   "outputs": [],
   "source": [
    "# Tf compares\n",
    "def get_rays(H, W, focal, c2w):\n",
    "    i, j = tf.meshgrid(tf.range(W, dtype=tf.float32), tf.range(H, dtype=tf.float32), indexing='xy')\n",
    "    dirs = tf.stack([(i*10-50)/focal, -(j*10-50)/focal, -tf.ones_like(i)], -1)\n",
    "    rays_d = tf.reduce_sum(dirs[..., np.newaxis, :] * c2w[:3,:3], -1)\n",
    "    rays_o = tf.broadcast_to(c2w[:3,-1], tf.shape(rays_d))\n",
    "    return rays_o, rays_d, dirs\n",
    "rays_o, rays_d, dirs = get_rays(H/10,W/10, focal, poses[1])\n",
    "\n",
    "##\n",
    "c2w=torch.from_numpy(poses[0])\n",
    "gur=th.bmm(p,c2w[:3,:3].T.view(1,3,3))\n",
    "\n",
    "##\n",
    "rays_o, rays_d\n",
    "N_samples = 10\n",
    "z_vals = tf.linspace(5.0, 8.0, N_samples)\n",
    "z_vals += tf.random.uniform(list(rays_o.shape[:-1]) + [N_samples]) * (8.0-5.0)/N_samples\n",
    "pts = rays_o[...,None,:] + rays_d[...,None,:] * z_vals[...,:,None]"
   ]
  },
  {
   "cell_type": "code",
   "execution_count": null,
   "metadata": {
    "code_folding": []
   },
   "outputs": [],
   "source": [
    "import torch as th\n",
    "\n",
    "def cast_rays(H, W, focal, scale, c2w, ns):\n",
    "    \n",
    "    nx = H // scale\n",
    "    ny = W // scale\n",
    "    \n",
    "    \n",
    "    \n",
    "    # Sample front plane\n",
    "    yy,xx = torch.meshgrid(torch.linspace(0,ny-1,ny),torch.linspace(0,nx-1,nx))\n",
    "    o = torch.Tensor(1,nx*ny,1).fill_(1)\n",
    "    \n",
    "    ix = xx.reshape(1,-1)*scale\n",
    "    iy = yy.reshape(1,-1)*scale\n",
    "    points = th.cat([(ix.unsqueeze(-1)-W/2)/focal, -(iy.unsqueeze(-1)-H/2)/focal, -o], dim=-1)\n",
    "    \n",
    "    camtrans = -torch.matmul(c2w[:3,-1],c2w[:3,:3])\n",
    "    near_distance = camtrans\n",
    "    far_distance = camtrans+5\n",
    "    \n",
    "    t=torch.linspace(0,1,ns)\n",
    "    t_noisy = t.view(1,ns,1,1) + torch.Tensor(1,ns,nx*ny,1).uniform_(0,1)/ns\n",
    "    \n",
    "    t_scale = t_noisy*far_distance + (1-t_noisy)*near_distance\n",
    "    points_move = t_scale * points.view(1,1,nx*ny,3)\n",
    "    \n",
    "    points_world = th.bmm((points_move).view(1,-1,3),c2w[:3,:3].T.view(1,3,3)) \n",
    "    \n",
    "    return points, points_move.view(1,-1,3), points_world\n",
    "\n",
    "def raytrace(z,sigma_a,rgb):\n",
    "    dists = th.cat([z[..., 1:,:] - z[..., :-1,:], th.ones_like(z[...,:1,:]).fill_(1e10)], -1) \n",
    "    alpha = 1.-th.exp(-sigma_a * dists)  \n",
    "    weights = alpha * th.cumprod(1.-alpha + 1e-10, -1, exclusive=True)\n",
    "    \n",
    "    rgb_map = (weights[...,None] * rgb).sum(dim=-2) \n",
    "    depth_map =(weights * z_vals).sum(dim=-1)\n",
    "    acc_map = weights.sum(dim=-1)\n",
    "\n",
    "    return rgb_map, depth_map, acc_map"
   ]
  },
  {
   "cell_type": "code",
   "execution_count": null,
   "metadata": {
    "code_folding": [
     0
    ]
   },
   "outputs": [],
   "source": [
    "# Train\n",
    "\n",
    "N_samples = 64\n",
    "N_iters = 1000\n",
    "psnrs = []\n",
    "iternums = []\n",
    "i_plot = 25\n",
    "\n",
    "import time\n",
    "t = time.time()\n",
    "for i in range(N_iters+1):\n",
    "    \n",
    "    img_i = np.random.randint(images.shape[0])\n",
    "    target = torch.from_numpy(images[img_i]).unsqueeze(0)\n",
    "    pose = torch.from_numpy(poses[img_i]).unsqueeze(0)\n",
    "    p,pm,pw=cast_rays(H,W,focal,10,torch.from_numpy(poses[2]),10)\n",
    "    \n",
    "    rgb,alpha=nerf(pw)\n",
    "    \n",
    "    loss = th.mean((rgb - target).pow(2))\n",
    "    gradients = tape.gradient(loss, model.trainable_variables)\n",
    "    optimizer.apply_gradients(zip(gradients, model.trainable_variables))\n",
    "    \n",
    "    if i%i_plot==0:\n",
    "        print(i, (time.time() - t) / i_plot, 'secs per iter')\n",
    "        t = time.time()\n",
    "        \n",
    "        # Render the holdout view for logging\n",
    "        rays_o, rays_d = get_rays(H, W, focal, testpose)\n",
    "        rgb, depth, acc = render_rays(model, rays_o, rays_d, near=2., far=6., N_samples=N_samples)\n",
    "        loss = tf.reduce_mean(tf.square(rgb - testimg))\n",
    "        psnr = -10. * tf.math.log(loss) / tf.math.log(10.)\n",
    "\n",
    "        psnrs.append(psnr.numpy())\n",
    "        iternums.append(i)\n",
    "        \n",
    "        plt.figure(figsize=(10,4))\n",
    "        plt.subplot(121)\n",
    "        plt.imshow(rgb)\n",
    "        plt.title(f'Iteration: {i}')\n",
    "        plt.subplot(122)\n",
    "        plt.plot(iternums, psnrs)\n",
    "        plt.title('PSNR')\n",
    "        plt.show()\n",
    "\n",
    "print('Done')"
   ]
  },
  {
   "cell_type": "code",
   "execution_count": null,
   "metadata": {},
   "outputs": [],
   "source": [
    "import open3d\n",
    "\n",
    "p,pm,pw=cast_rays(H,W,focal,10,torch.from_numpy(poses[0]),10)\n",
    "p,pm,pw_2=cast_rays(H,W,focal,10,torch.from_numpy(poses[2]),10)"
   ]
  },
  {
   "cell_type": "code",
   "execution_count": null,
   "metadata": {},
   "outputs": [],
   "source": [
    "mesh=trimesh.load('./mesh.obj')\n",
    "verts=np.array(mesh.vertices)"
   ]
  },
  {
   "cell_type": "code",
   "execution_count": null,
   "metadata": {
    "code_folding": []
   },
   "outputs": [],
   "source": [
    "# Point clouds\n",
    "viz=open3d.JVisualizer()\n",
    "\n",
    "pcd1 = open3d.geometry.PointCloud()\n",
    "pcd1.points = open3d.utility.Vector3dVector(p[0].numpy())\n",
    "pcd1.paint_uniform_color(np.array([1,0,0],dtype=np.float32))\n",
    "\n",
    "pcd2 = open3d.geometry.PointCloud()\n",
    "pcd2.points = open3d.utility.Vector3dVector(pm[0].numpy())\n",
    "pcd2.paint_uniform_color(np.array([0,1,0],dtype=np.float32))\n",
    "\n",
    "pcd3 = open3d.geometry.PointCloud()\n",
    "pcd3.points = open3d.utility.Vector3dVector(pw[0].numpy())\n",
    "pcd3.paint_uniform_color(np.array([0,0,1],dtype=np.float32))\n",
    "\n",
    "pcd4 = open3d.geometry.PointCloud()\n",
    "pcd4.points = open3d.utility.Vector3dVector(pw_2[0].numpy())\n",
    "pcd4.paint_uniform_color(np.array([1,0,1],dtype=np.float32))\n",
    "\n",
    "pcd5=open3d.geometry.PointCloud()\n",
    "pcd5.points = open3d.utility.Vector3dVector(verts)\n",
    "pcd5=pcd5.uniform_down_sample(100)\n",
    "pcd5.paint_uniform_color(np.array([0,1,1],dtype=np.float32))"
   ]
  },
  {
   "cell_type": "code",
   "execution_count": null,
   "metadata": {},
   "outputs": [],
   "source": [
    "viz=open3d.JVisualizer()\n",
    "\n",
    "viz.add_geometry(pcd5)\n",
    "viz.add_geometry(pcd1)\n",
    "viz.show()"
   ]
  },
  {
   "cell_type": "code",
   "execution_count": null,
   "metadata": {},
   "outputs": [],
   "source": [
    "viz=open3d.JVisualizer()\n",
    "\n",
    "viz.add_geometry(pcd5)\n",
    "viz.add_geometry(pcd2)\n",
    "viz.show()"
   ]
  },
  {
   "cell_type": "code",
   "execution_count": null,
   "metadata": {},
   "outputs": [],
   "source": [
    "viz=open3d.JVisualizer()\n",
    "\n",
    "viz.add_geometry(pcd5)\n",
    "viz.add_geometry(pcd3)\n",
    "viz.show()"
   ]
  },
  {
   "cell_type": "code",
   "execution_count": null,
   "metadata": {},
   "outputs": [],
   "source": [
    "plt.imshow(images[0])\n",
    "plt.axis(\"off\")"
   ]
  },
  {
   "cell_type": "code",
   "execution_count": null,
   "metadata": {},
   "outputs": [],
   "source": [
    "viz=open3d.JVisualizer()\n",
    "\n",
    "viz.add_geometry(pcd5)\n",
    "viz.add_geometry(pcd3)\n",
    "viz.add_geometry(pcd4)\n",
    "viz.show()"
   ]
  },
  {
   "cell_type": "markdown",
   "metadata": {},
   "source": [
    "## Debug"
   ]
  },
  {
   "cell_type": "code",
   "execution_count": null,
   "metadata": {},
   "outputs": [],
   "source": [
    "pcd5 = open3d.geometry.PointCloud()\n",
    "pcd5.points = open3d.utility.Vector3dVector(pws[0].numpy())\n",
    "pcd5.paint_uniform_color(np.array([1,0,1],dtype=np.float32))\n",
    "\n",
    "pcd6 = open3d.geometry.PointCloud()\n",
    "pcd6.points = open3d.utility.Vector3dVector(pts_tp)\n",
    "pcd6.paint_uniform_color(np.array([1,1,0],dtype=np.float32))"
   ]
  },
  {
   "cell_type": "code",
   "execution_count": null,
   "metadata": {},
   "outputs": [],
   "source": [
    "pws=pw.clamp(-1.5,1.5)"
   ]
  },
  {
   "cell_type": "code",
   "execution_count": null,
   "metadata": {},
   "outputs": [],
   "source": [
    "#viz.add_geometry(pcd3)\n",
    "viz=open3d.JVisualizer()\n",
    "\n",
    "viz.add_geometry(pcd5)\n",
    "#viz.add_geometry(pcd6)\n",
    "viz.add_geometry(pcd4)\n",
    "viz.show()\n",
    "del viz"
   ]
  },
  {
   "cell_type": "code",
   "execution_count": null,
   "metadata": {},
   "outputs": [],
   "source": [
    "mesh=trimesh.load('./mesh.obj')"
   ]
  },
  {
   "cell_type": "code",
   "execution_count": null,
   "metadata": {},
   "outputs": [],
   "source": [
    "g=np.array(mesh.vertices)"
   ]
  },
  {
   "cell_type": "code",
   "execution_count": null,
   "metadata": {},
   "outputs": [],
   "source": [
    "g[:,0]=g[:,0]\n",
    "g[:,1]=g[:,1]\n",
    "g[:,2]=-g[:,2]"
   ]
  },
  {
   "cell_type": "code",
   "execution_count": null,
   "metadata": {},
   "outputs": [],
   "source": [
    "pcd4=open3d.geometry.PointCloud()\n",
    "pcd4.points = open3d.utility.Vector3dVector(k)\n",
    "pcd4=pcd4.uniform_down_sample(100)\n",
    "pcd4.paint_uniform_color(np.array([0,0,1],dtype=np.float32))\n"
   ]
  },
  {
   "cell_type": "code",
   "execution_count": null,
   "metadata": {},
   "outputs": [],
   "source": [
    "pcd5=open3d.geometry.PointCloud()\n",
    "pcd5.points = open3d.utility.Vector3dVector(points[0].numpy())\n",
    "pcd5=pcd5.uniform_down_sample(100)\n",
    "pcd5.paint_uniform_color(np.array([1,1,1],dtype=np.float32))"
   ]
  },
  {
   "cell_type": "code",
   "execution_count": null,
   "metadata": {},
   "outputs": [],
   "source": [
    "k=g[:,(1,0,2)]\n",
    "l=th.from_numpy(k)"
   ]
  },
  {
   "cell_type": "code",
   "execution_count": null,
   "metadata": {},
   "outputs": [],
   "source": [
    "lm=th.cat([l.float().unsqueeze(0),torch.ones_like(l).float().unsqueeze(0)],dim=-1)\n",
    "lm=lm[:,:,:4]"
   ]
  },
  {
   "cell_type": "code",
   "execution_count": null,
   "metadata": {},
   "outputs": [],
   "source": [
    "c2w=torch.from_numpy(poses[2])\n",
    "points=th.bmm(l.float().unsqueeze(0),c2w[:3,:3].unsqueeze(0)) "
   ]
  },
  {
   "cell_type": "code",
   "execution_count": null,
   "metadata": {},
   "outputs": [],
   "source": [
    "z=l[:,:2]\n",
    "pts=z*focal"
   ]
  },
  {
   "cell_type": "code",
   "execution_count": null,
   "metadata": {},
   "outputs": [],
   "source": [
    "plt.imshow(images[2])\n",
    "plt.scatter(pts[:,0]+50,pts[:,1]+50,alpha=0.3)"
   ]
  },
  {
   "cell_type": "code",
   "execution_count": null,
   "metadata": {},
   "outputs": [],
   "source": [
    "pts.shape"
   ]
  },
  {
   "cell_type": "code",
   "execution_count": null,
   "metadata": {},
   "outputs": [],
   "source": [
    "plt.imshow(images[2])"
   ]
  },
  {
   "cell_type": "code",
   "execution_count": null,
   "metadata": {},
   "outputs": [],
   "source": [
    "poses[0]"
   ]
  },
  {
   "cell_type": "code",
   "execution_count": null,
   "metadata": {},
   "outputs": [],
   "source": []
  }
 ],
 "metadata": {
  "kernelspec": {
   "display_name": "VolRend",
   "language": "python",
   "name": "volrend"
  },
  "language_info": {
   "codemirror_mode": {
    "name": "ipython",
    "version": 3
   },
   "file_extension": ".py",
   "mimetype": "text/x-python",
   "name": "python",
   "nbconvert_exporter": "python",
   "pygments_lexer": "ipython3",
   "version": "3.8.5"
  }
 },
 "nbformat": 4,
 "nbformat_minor": 2
}
